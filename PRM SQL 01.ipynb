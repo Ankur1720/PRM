{
 "cells": [
  {
   "cell_type": "code",
   "execution_count": null,
   "id": "21eb332f",
   "metadata": {},
   "outputs": [],
   "source": [
    "DROP TABLE IF EXISTS countries;\n",
    "CREATE TABLE countries(\n",
    "country_id VARCHAR(100),\n",
    "country_name VARCHAR(100)\n",
    "CHECK(country_name IN('Italy','India','China')) ,\n",
    "region_id decimal(10,0)\n",
    ");"
   ]
  }
 ],
 "metadata": {
  "kernelspec": {
   "display_name": "Python 3 (ipykernel)",
   "language": "python",
   "name": "python3"
  }
 },
 "nbformat": 4,
 "nbformat_minor": 5
}
