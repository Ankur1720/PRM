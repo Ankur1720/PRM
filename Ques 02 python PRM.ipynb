{
 "cells": [
  {
   "cell_type": "code",
   "execution_count": null,
   "id": "c0dd416c",
   "metadata": {},
   "outputs": [],
   "source": [
    "class Triangle():\n",
    "    def __init__(self,lst):\n",
    "        self.lst=lst\n",
    "    def validate_triangle(self,l):\n",
    "        if len(l)==3 and (l[0]+l[1])>l[2]:\n",
    "            return \"Valid Triangle\"         \n",
    "        else:\n",
    "            return \"Invalid Triangle\"\n",
    "class Rectangle():\n",
    "    def __init__(self,lst):\n",
    "        self.lst=lst\n",
    "    def validate_rectangle(self,l):\n",
    "        if len(l)==4 and  (l[0]==l[2]) and (l[1]==l[3]):\n",
    "            return \"Valid Rectangle\"         \n",
    "        else:\n",
    "            return \"Invalid Rectangle\"\n",
    "triang=list(map(int,input(\"Enter the size lenght of traingle : \").split()))\n",
    "rect=list(map(int,input(\"Enter the size lenght of rectangle : \").split()))\n",
    "triangle=Triangle(triang)       \n",
    "print(triangle.validate_triangle(triang))\n",
    "rectangle=Rectangle(rect)\n",
    "print(rectangle.validate_rectangle(rect))\n",
    "\n",
    "# for triangle = a + b > c\n",
    "# enter 3 4 5 \n",
    "\n",
    "# for rectangle = a = c , b = d\n",
    "# enter 2 4 2 4 \n",
    "Footer\n",
    "© 2023 GitHub, Inc.\n",
    "Footer navigation\n",
    "Terms\n",
    "Privacy"
   ]
  }
 ],
 "metadata": {
  "kernelspec": {
   "display_name": "Python 3 (ipykernel)",
   "language": "python",
   "name": "python3"
  }
 },
 "nbformat": 4,
 "nbformat_minor": 5
}
