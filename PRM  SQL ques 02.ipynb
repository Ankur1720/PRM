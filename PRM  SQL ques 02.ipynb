{
 "cells": [
  {
   "cell_type": "code",
   "execution_count": null,
   "id": "b6fb2eea",
   "metadata": {},
   "outputs": [],
   "source": [
    "DROP TABLE IF EXISTS  countries;\n",
    "CREATE TABLE countries(\n",
    "COUNTRY_ID VARCHAR(2),\n",
    "COUNTRY_NAME VARCHAR(40),\n",
    "REGION_ID DECIMAL(10,0)\n",
    ");\n",
    "desc countries;\n",
    "\n",
    "DROP TABLE IF EXISTS country_new;\n",
    "CREATE TABLE  country_new \n",
    "AS SELECT * FROM countries;"
   ]
  }
 ],
 "metadata": {
  "kernelspec": {
   "display_name": "Python 3 (ipykernel)",
   "language": "python",
   "name": "python3"
  },
  "language_info": {
   "codemirror_mode": {
    "name": "ipython",
    "version": 3
   },
   "file_extension": ".py",
   "mimetype": "text/x-python",
   "name": "python",
   "nbconvert_exporter": "python",
   "pygments_lexer": "ipython3",
   "version": "3.11.0"
  }
 },
 "nbformat": 4,
 "nbformat_minor": 5
}
